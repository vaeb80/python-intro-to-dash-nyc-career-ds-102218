{
 "cells": [
  {
   "cell_type": "markdown",
   "metadata": {},
   "source": [
    "# Introduction to Dash Lab"
   ]
  },
  {
   "cell_type": "markdown",
   "metadata": {},
   "source": [
    "## Introduction\n",
    "In this lab we will introduce Dash, a Python framework for building analytical web applications that uses other libraries and frameworks like Plotly, React, and Flask. More simply, Dash is an easy-to-use tool that allows us to display both HTML and graphs in our browser. Dash enables us to integrate data visualization tools into our web applications, thus bringing us another step forward to being data scientists. We will start off with a simple example of how to set up a page and graph some data in Dash. Let's get started!"
   ]
  },
  {
   "cell_type": "markdown",
   "metadata": {},
   "source": [
    "## Objectives\n",
    "* Install all the necessary libraries and frameworks and import them into our application\n",
    "* Initialize a new Dash app\n",
    "* Create a layout with Dash's html components\n",
    "* Add a graph to our Dash app with Dash's core components"
   ]
  },
  {
   "cell_type": "markdown",
   "metadata": {},
   "source": [
    "## Getting Started with Dash"
   ]
  },
  {
   "cell_type": "markdown",
   "metadata": {},
   "source": [
    "First things first, we will need to install all the parts of Dash that we will be using. We will need to pip install:\n",
    "* dash -- *dash's backend*\n",
    "* dash-renderer -- *dash's front-end*\n",
    "* dash-html-components -- *dash's components for creating HTML layouts and tags on the web page*\n",
    "* dash-core-components -- *dash's components for creating data visualizations and other tools*\n",
    "* plotly -- *the plotly graphing library*\n",
    "    \n",
    "We can install all of these by running one command in our terminal:\n",
    "    \n",
    "> `pip install dash dash-renderer dash-html-components dash-core-components plotly`"
   ]
  },
  {
   "cell_type": "markdown",
   "metadata": {},
   "source": [
    "## Setting Up a Dash App"
   ]
  },
  {
   "cell_type": "markdown",
   "metadata": {},
   "source": [
    "To create a new Dash Application, we need to first define our imports in our `app.py` file, which will be the following:\n",
    "\n",
    "```python\n",
    "import dash # importing the dash framework\n",
    "import dash_core_components as dcc # importing the core components from dash\n",
    "import dash_html_components as html # importing the html components from dash\n",
    "```\n",
    "\n",
    "Once we have our imports set-up, we can create a new instance of a Dash app with the following line of code:\n",
    "\n",
    "```python\n",
    "# creating a new instance of Dash\n",
    "app = dash.Dash() \n",
    "\n",
    "# telling our app to start the server if we are running this file\n",
    "if __name__ == '__main__':\n",
    "    app.run_server(debug=True)\n",
    "```\n",
    "\n",
    "Okay, once we've done the above, we have ourselves a Dash app! It doesn't do much (or show much in our browser), but we can certainly run the server and look at in our browser. Let's try it by running the following command in our terminal and then opening a new tab in our browser and navigating to `http://localhost:8050/`\n",
    "\n",
    "> `python app.py`\n",
    "\n",
    "Uh oh! We got an error; `AttributeError: 'NoneType' object has no attribute 'traverse'`. Dash is expecting some html, specifically a layout, to display, but we haven't yet given it a layout. Let's keep going and fix this issue."
   ]
  },
  {
   "cell_type": "markdown",
   "metadata": {},
   "source": [
    "## Creating a Layout in a Dash App"
   ]
  },
  {
   "cell_type": "markdown",
   "metadata": {},
   "source": [
    "Okay, we have our Dash app almost working. Let's see how we add a layout to our app. \n",
    "\n",
    "You already might have guessed it at this point, but it's as simple as:\n",
    "\n",
    "```python\n",
    "app.layout = # some code\n",
    "```\n",
    "\n",
    "Unfortunately, we can't just assign the layout to some HTML or even a string of HTML, we need to use dash's html components. So, since we imported the dash_html_components as html, we will reference it as such. To start, we will assign the layout to an html element. Usually we will chose a `div` to start. \n",
    "\n",
    "```python\n",
    "app.layout = html.Div(\"Hello World\")\n",
    "```\n",
    "\n",
    "We can add this in directly underneath where we instantiated our dash app and above where we start the server. Now, when we refresh the browser, we should see a div with the text \"Hello World\". Great!"
   ]
  },
  {
   "cell_type": "markdown",
   "metadata": {},
   "source": [
    "Since we will be adding more than just a simple div to our page, we should re-format this layout slightly. Instead of giving our layout's most outer div tag just a string of \"Hello World\", we should give it a `children` attribute and assign it to a list. \n",
    "\n",
    "```python\n",
    "app.layout = html.Div(children=[])\n",
    "```\n",
    "\n",
    "> **Note:** You can give any dash html element a children attribute; however, you should only do this if you are nesting multiple html elements within that element (i.e. our page layout, an ordered or unordered list of elements, etc.)\n",
    "\n",
    "Inside this list we are going to add all the other html elements we want to display on our page. Let's add an `h1` tag that reads \"Hello, this is my first dash app\" and below that let's add a `p` tag that reads \"Still under construction... :)\". \n",
    "\n",
    "> **Note:** as our layout grows, it is important to have a clean formatting so that we can more easily read and manage our code base. Below is an illustration of how we should format the dash html elements in our list of html children.\n",
    "\n",
    "```python\n",
    "app.layout = html.Div(children=[\n",
    "    html.ExampleElement(\"Example Text\"),\n",
    "    html.AnotherElement(\"More text\")\n",
    "])\n",
    "```\n",
    "\n",
    "Now, when we visit our app in the browser, we should see a page that looks like this:\n",
    "\n",
    "> <h1>Hello, this is my first dash app</h1>\n",
    "> <p>Still under construction... :)</p>"
   ]
  },
  {
   "cell_type": "markdown",
   "metadata": {},
   "source": [
    "## Adding Data Visualization With Graphs"
   ]
  },
  {
   "cell_type": "markdown",
   "metadata": {},
   "source": [
    "Okay okay, we can display HTML. That is fun and all, but let's get to the good stuff and get some cool graphs on the page already!\n",
    "\n",
    "Remember when we imported dash's core components? Well, we are going to finally use them! We will use the `dcc` import to create a graph. To do this, we will simply add a third element to our list of children in our app's outer most `div`. \n",
    "\n",
    "Creating a graph with dash's core components is very similar to creating a graph using the plotly library. First, we will create a new graph object with `dcc.Graph()`. The graph object takes a few different attributes. Below we see an example graph object:\n",
    "\n",
    "> ```python\n",
    "dcc.Graph(\n",
    "    id = \"Example Graph\",\n",
    "    figure = {\n",
    "        'data': [\n",
    "            {'x': [1,2,3], 'y': [4,5,6], 'type': \"bar\", 'name': \"Example\"},\n",
    "            {'x': [3,2,1], 'y': [6,5,4], 'type': \"line\", 'name': \"Another Example\"}\n",
    "        ],\n",
    "        layout: {\n",
    "            'title': \"Example Graph\"\n",
    "        }\n",
    "    }\n",
    "```\n",
    "\n",
    "As we can see, our graph has an `id` attribute. Although we wont be using the ID in this lab, this is a necessary attribute. Next, our graph has a dictionary called `figure`, which has two attributes, `data` and `layout`. Data, is the stuff we want to plot on our graph -- it has data points for the `x` and `y` axes as well as the type of graph  and the name of each grouping of data. The figure's layout attribute takes a title so we can give our graph a descriptive title -- pretty simple.\n",
    "\n",
    "Let's try building this out with the data we already have provided for us in the uber_data.py file. We can either import this data or copy it over to our app.py file. Let's give our graph an `id` of `\"uber_pricing_data\"`. Also, our graph's title should be `\"Uber Pricing in Brooklyn and Manhattan\"`. Save our work and view our dash app in the browser again."
   ]
  },
  {
   "cell_type": "markdown",
   "metadata": {},
   "source": [
    "![preview of new dash app](https://learn-verified.s3.amazonaws.com/data-science-assets/dash_manhattan_brooklyn_uber_prices.png)"
   ]
  },
  {
   "cell_type": "markdown",
   "metadata": {},
   "source": [
    "## Summary"
   ]
  },
  {
   "cell_type": "markdown",
   "metadata": {},
   "source": [
    "Great work! We learned how to set up a Dash app in this lab. Then, we added a layout using dash's html components and learned how to create nested html tags on our layout. Finally, we practiced data visualization using dash's core components to create a graph with pre-populated data showing the relationship between distance and price in taxi fares in Brooklyn and Manhattan."
   ]
  }
 ],
 "metadata": {
  "kernelspec": {
   "display_name": "Python 3",
   "language": "python",
   "name": "python3"
  },
  "language_info": {
   "codemirror_mode": {
    "name": "ipython",
    "version": 3
   },
   "file_extension": ".py",
   "mimetype": "text/x-python",
   "name": "python",
   "nbconvert_exporter": "python",
   "pygments_lexer": "ipython3",
   "version": "3.6.6"
  }
 },
 "nbformat": 4,
 "nbformat_minor": 2
}
